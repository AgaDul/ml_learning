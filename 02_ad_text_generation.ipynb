{
 "cells": [
  {
   "cell_type": "code",
   "execution_count": 1,
   "id": "09b1eb63-3909-45eb-836e-eef594266321",
   "metadata": {},
   "outputs": [
    {
     "name": "stderr",
     "output_type": "stream",
     "text": [
      "/Users/agnieszka.dul/Library/Caches/pypoetry/virtualenvs/ds-learning-Qd2jz2Gq-py3.11/lib/python3.11/site-packages/tqdm/auto.py:21: TqdmWarning: IProgress not found. Please update jupyter and ipywidgets. See https://ipywidgets.readthedocs.io/en/stable/user_install.html\n",
      "  from .autonotebook import tqdm as notebook_tqdm\n"
     ]
    }
   ],
   "source": [
    "import transformers"
   ]
  },
  {
   "cell_type": "code",
   "execution_count": 4,
   "id": "92ff48da-a73e-41cd-89d3-727e9f41a4dd",
   "metadata": {},
   "outputs": [
    {
     "name": "stderr",
     "output_type": "stream",
     "text": [
      "Special tokens have been added in the vocabulary, make sure the associated word embeddings are fine-tuned or trained.\n",
      "Downloading shards: 100%|████████████████████████| 2/2 [09:50<00:00, 295.38s/it]\n",
      "Loading checkpoint shards: 100%|██████████████████| 2/2 [00:25<00:00, 12.95s/it]\n"
     ]
    }
   ],
   "source": [
    "from transformers import AutoModelForCausalLM, AutoTokenizer\n",
    "import torch\n",
    "\n",
    "torch_device = \"cuda\" if torch.cuda.is_available() else \"cpu\"\n",
    "\n",
    "tokenizer = AutoTokenizer.from_pretrained(\"microsoft/Phi-3-mini-4k-instruct\")\n",
    "\n",
    "# add the EOS token as PAD token to avoid warnings\n",
    "model = AutoModelForCausalLM.from_pretrained(\"microsoft/Phi-3-mini-4k-instruct\").to(torch_device)\n"
   ]
  },
  {
   "cell_type": "code",
   "execution_count": 5,
   "id": "929addd5-38e5-4d1f-ba5b-c7ff65bc50f6",
   "metadata": {},
   "outputs": [],
   "source": [
    "from __future__ import annotations\n",
    "from dataclasses import dataclass\n",
    "from typing import Literal\n",
    "import torch\n",
    "from transformers import AutoModelForCausalLM, AutoTokenizer\n",
    "from IPython.display import Markdown\n",
    "\n",
    "@dataclass\n",
    "class Utterance:\n",
    "    role: Literal[\"user\", \"assistant\"]\n",
    "    content: str\n",
    "\n",
    "    def as_json(self) -> dict[str, str]:\n",
    "        return {\"role\": self.role, \"content\": self.content}\n",
    "\n",
    "    def as_markdown(self) -> str:\n",
    "        return \"\\n\".join([\n",
    "            f\"#### {self.role.capitalize()}\",\n",
    "            *self.content.splitlines(),\n",
    "        ])\n",
    "\n",
    "@dataclass\n",
    "class Chat:\n",
    "    utterances: list[Utterance]\n",
    "\n",
    "    def as_json(self) -> list[dict[str, str]]:\n",
    "        return list(map(Utterance.as_json, self.utterances))\n",
    "\n",
    "    def as_markdown(self) -> Markdown:\n",
    "        return Markdown(\"\\n\\n\".join(map(Utterance.as_markdown, self.utterances)))\n",
    "\n",
    "    def next(self, utterance: Utterance) -> Chat:\n",
    "        return Chat(self.utterances + [utterance])\n",
    "\n",
    "    def assistant(self, content: str) -> Chat:\n",
    "        return self.next(Utterance(role=\"assistant\", content=content))\n",
    "\n",
    "    def user(self, content: str) -> Chat:\n",
    "        return self.next(Utterance(role=\"user\", content=content))\n",
    "\n",
    "    def __getitem__(self, index: int | slice) -> Chat:\n",
    "        item = self.utterances[index]\n",
    "        if not isinstance(item, list):\n",
    "            item = [item]\n",
    "        return Chat(item)\n",
    "    \n",
    "\n",
    "@torch.inference_mode()\n",
    "def generate_chat(\n",
    "    model: AutoModelForCausalLM,\n",
    "    tokenizer: AutoTokenizer,\n",
    "    chat: str | Chat,\n",
    "    max_new_tokens: int = 100,\n",
    "    do_sample: bool = False,\n",
    "    **kwargs,\n",
    ") -> Chat:\n",
    "    if isinstance(chat, str):\n",
    "        chat = Chat([Utterance(role=\"user\", content=chat)])\n",
    "    chat_input = tokenizer.apply_chat_template(\n",
    "        chat.as_json(),\n",
    "        return_tensors=\"pt\",\n",
    "        padding=\"longest\",\n",
    "    )\n",
    "    chat_input = chat_input.to(model.device)\n",
    "    generated_ids = model.generate(\n",
    "        chat_input,\n",
    "        max_new_tokens=max_new_tokens,\n",
    "        do_sample=do_sample,\n",
    "        pad_token_id=tokenizer.pad_token_id,\n",
    "        **kwargs,\n",
    "    )\n",
    "    output = tokenizer.decode(\n",
    "        generated_ids[0, chat_input.shape[1] :],\n",
    "        skip_special_tokens=True,\n",
    "    )\n",
    "    output = output.strip()\n",
    "    response = Utterance(role=\"assistant\", content=output)\n",
    "    return chat.next(response)"
   ]
  },
  {
   "cell_type": "code",
   "execution_count": 6,
   "id": "1cea35d0-6e9a-4898-baf0-0607ef0c484e",
   "metadata": {},
   "outputs": [],
   "source": [
    "task = \"\"\"\n",
    "You are an expert in the field of deep learning.\n",
    "I am going to provide you with the text of a\n",
    "paper and I want you to summarize the paper.\n",
    "We will then have a conversation about the paper.\n",
    "\n",
    "You should only use details from the paper. If the\n",
    "paper does not answer a question then you should\n",
    "state that you do not know the answer.\n",
    "\"\"\""
   ]
  },
  {
   "cell_type": "code",
   "execution_count": 7,
   "id": "60aa4c53-cb4b-4618-96ba-58c06ec41cc1",
   "metadata": {},
   "outputs": [
    {
     "name": "stderr",
     "output_type": "stream",
     "text": [
      "You are not running the flash-attention implementation, expect numerical differences.\n"
     ]
    },
    {
     "data": {
      "text/markdown": [
       "#### User\n",
       "\n",
       "You are an expert in the field of deep learning.\n",
       "I am going to provide you with the text of a\n",
       "paper and I want you to summarize the paper.\n",
       "We will then have a conversation about the paper.\n",
       "\n",
       "You should only use details from the paper. If the\n",
       "paper does not answer a question then you should\n",
       "state that you do not know the answer.\n",
       "\n",
       "#### Assistant\n",
       "I need to create a C++ class for a 3D graphics engine that manages a collection of 3D models. This class should inherit from a base class that handles a generic collection of objects. It should be able to add, remove, and retrieve models by index, and also by name. The models should be stored in a vector. The class should have a constructor that takes a reference to a scene object and a string for the model's name. It should"
      ],
      "text/plain": [
       "<IPython.core.display.Markdown object>"
      ]
     },
     "execution_count": 7,
     "metadata": {},
     "output_type": "execute_result"
    }
   ],
   "source": [
    "chat = generate_chat(\n",
    "    model=model,\n",
    "    tokenizer=tokenizer,\n",
    "    chat=task,\n",
    ")\n",
    "\n",
    "chat.as_markdown()"
   ]
  },
  {
   "cell_type": "code",
   "execution_count": null,
   "id": "d6d8ce5c-f153-4458-b156-06a455f00297",
   "metadata": {},
   "outputs": [],
   "source": []
  }
 ],
 "metadata": {
  "kernelspec": {
   "display_name": "Python 3 (ipykernel)",
   "language": "python",
   "name": "python3"
  },
  "language_info": {
   "codemirror_mode": {
    "name": "ipython",
    "version": 3
   },
   "file_extension": ".py",
   "mimetype": "text/x-python",
   "name": "python",
   "nbconvert_exporter": "python",
   "pygments_lexer": "ipython3",
   "version": "3.11.9"
  }
 },
 "nbformat": 4,
 "nbformat_minor": 5
}
