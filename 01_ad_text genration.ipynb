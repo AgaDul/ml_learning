{
 "cells": [
  {
   "cell_type": "code",
   "execution_count": 1,
   "id": "b913494f-f354-49ca-97a8-c34875488cfc",
   "metadata": {
    "tags": []
   },
   "outputs": [
    {
     "name": "stderr",
     "output_type": "stream",
     "text": [
      "/Users/agnieszka.dul/Library/Caches/pypoetry/virtualenvs/ds-learning-Qd2jz2Gq-py3.11/lib/python3.11/site-packages/tqdm/auto.py:21: TqdmWarning: IProgress not found. Please update jupyter and ipywidgets. See https://ipywidgets.readthedocs.io/en/stable/user_install.html\n",
      "  from .autonotebook import tqdm as notebook_tqdm\n"
     ]
    }
   ],
   "source": [
    "import transformers"
   ]
  },
  {
   "cell_type": "code",
   "execution_count": 3,
   "id": "117327f7-1030-4e37-8cab-9a5a8f8a58e0",
   "metadata": {
    "tags": []
   },
   "outputs": [],
   "source": [
    "import torch"
   ]
  },
  {
   "cell_type": "markdown",
   "id": "3ae5dd78-1e10-4a81-9c4b-c278ac5c1c03",
   "metadata": {},
   "source": [
    "Text generation - learning the model"
   ]
  },
  {
   "cell_type": "markdown",
   "id": "dedd840b-c5a3-4fa0-abbf-a88c9de7e8b1",
   "metadata": {},
   "source": [
    "## Data"
   ]
  },
  {
   "cell_type": "code",
   "execution_count": 28,
   "id": "9e653936-c0e7-4fca-973f-ac24831d02e8",
   "metadata": {},
   "outputs": [
    {
     "data": {
      "text/plain": [
       "2"
      ]
     },
     "execution_count": 28,
     "metadata": {},
     "output_type": "execute_result"
    }
   ],
   "source": [
    "1+1"
   ]
  },
  {
   "cell_type": "markdown",
   "id": "2eef84a8-94db-417f-9b5b-58ad4b2cbee0",
   "metadata": {},
   "source": [
    "## Experiment"
   ]
  },
  {
   "cell_type": "code",
   "execution_count": null,
   "id": "36c283bb-c234-4ff8-b9da-50e7c25d0f34",
   "metadata": {},
   "outputs": [],
   "source": []
  },
  {
   "cell_type": "code",
   "execution_count": 2,
   "id": "ca43a0a4-8ddc-40f5-a5d2-5f9e06445deb",
   "metadata": {},
   "outputs": [
    {
     "name": "stderr",
     "output_type": "stream",
     "text": [
      "/Users/agnieszka.dul/Library/Caches/pypoetry/virtualenvs/ds-learning-Qd2jz2Gq-py3.11/lib/python3.11/site-packages/huggingface_hub/file_download.py:1132: FutureWarning: `resume_download` is deprecated and will be removed in version 1.0.0. Downloads always resume when possible. If you want to force a new download, use `force_download=True`.\n",
      "  warnings.warn(\n"
     ]
    }
   ],
   "source": [
    "from transformers import AutoModelForCausalLM, AutoTokenizer\n",
    "import torch\n",
    "\n",
    "torch_device = \"cuda\" if torch.cuda.is_available() else \"cpu\"\n",
    "\n",
    "tokenizer = AutoTokenizer.from_pretrained(\"gpt2\")\n",
    "\n",
    "# add the EOS token as PAD token to avoid warnings\n",
    "model = AutoModelForCausalLM.from_pretrained(\"gpt2\", pad_token_id=tokenizer.eos_token_id).to(torch_device)\n"
   ]
  },
  {
   "cell_type": "code",
   "execution_count": 4,
   "id": "d615afc7-3893-4bc7-9c3d-b7c83e6ad19a",
   "metadata": {},
   "outputs": [
    {
     "data": {
      "text/plain": [
       "GPT2LMHeadModel(\n",
       "  (transformer): GPT2Model(\n",
       "    (wte): Embedding(50257, 768)\n",
       "    (wpe): Embedding(1024, 768)\n",
       "    (drop): Dropout(p=0.1, inplace=False)\n",
       "    (h): ModuleList(\n",
       "      (0-11): 12 x GPT2Block(\n",
       "        (ln_1): LayerNorm((768,), eps=1e-05, elementwise_affine=True)\n",
       "        (attn): GPT2Attention(\n",
       "          (c_attn): Conv1D()\n",
       "          (c_proj): Conv1D()\n",
       "          (attn_dropout): Dropout(p=0.1, inplace=False)\n",
       "          (resid_dropout): Dropout(p=0.1, inplace=False)\n",
       "        )\n",
       "        (ln_2): LayerNorm((768,), eps=1e-05, elementwise_affine=True)\n",
       "        (mlp): GPT2MLP(\n",
       "          (c_fc): Conv1D()\n",
       "          (c_proj): Conv1D()\n",
       "          (act): NewGELUActivation()\n",
       "          (dropout): Dropout(p=0.1, inplace=False)\n",
       "        )\n",
       "      )\n",
       "    )\n",
       "    (ln_f): LayerNorm((768,), eps=1e-05, elementwise_affine=True)\n",
       "  )\n",
       "  (lm_head): Linear(in_features=768, out_features=50257, bias=False)\n",
       ")"
      ]
     },
     "execution_count": 4,
     "metadata": {},
     "output_type": "execute_result"
    }
   ],
   "source": [
    "model"
   ]
  },
  {
   "cell_type": "code",
   "execution_count": 11,
   "id": "3dbe5030-3aa5-4fb5-865a-504f875fb871",
   "metadata": {},
   "outputs": [
    {
     "data": {
      "text/plain": [
       "{'input_ids': tensor([[ 9246,   318,  5586,   319,   257, 27737]]), 'attention_mask': tensor([[1, 1, 1, 1, 1, 1]])}"
      ]
     },
     "execution_count": 11,
     "metadata": {},
     "output_type": "execute_result"
    }
   ],
   "source": [
    "input = 'cat is sitting on a sunny'\n",
    "token = tokenizer(input, return_tensors = \"pt\")\n",
    "token"
   ]
  },
  {
   "cell_type": "code",
   "execution_count": 7,
   "id": "fd65e2b7-f705-4f9a-a402-7d5d74f158fd",
   "metadata": {},
   "outputs": [
    {
     "data": {
      "text/plain": [
       "' on'"
      ]
     },
     "execution_count": 7,
     "metadata": {},
     "output_type": "execute_result"
    }
   ],
   "source": [
    "tokenizer.decode(319)"
   ]
  },
  {
   "cell_type": "code",
   "execution_count": 27,
   "id": "0a052864-f310-4542-a23c-9efcc85e93fa",
   "metadata": {},
   "outputs": [
    {
     "data": {
      "text/plain": [
       "tensor([[[ -30.4126,  -29.6744,  -32.4685,  ...,  -38.5661,  -37.2363,\n",
       "           -30.6164],\n",
       "         [-103.6783, -104.1460, -107.0027,  ..., -112.3242, -109.4508,\n",
       "          -106.8523],\n",
       "         [-104.9496, -106.9342, -113.1350,  ..., -117.2863, -111.3649,\n",
       "          -109.4713],\n",
       "         [ -74.3458,  -74.0159,  -80.5104,  ...,  -82.2178,  -81.3614,\n",
       "           -76.4972],\n",
       "         [ -95.7849,  -93.9787,  -98.1079,  ..., -102.1896,  -98.6558,\n",
       "           -95.2035],\n",
       "         [-109.4507, -105.7443, -114.2843,  ..., -118.0063, -113.5199,\n",
       "          -109.7081]]], grad_fn=<UnsafeViewBackward0>)"
      ]
     },
     "execution_count": 27,
     "metadata": {},
     "output_type": "execute_result"
    }
   ],
   "source": [
    "output = model(**token)\n",
    "output.logits"
   ]
  },
  {
   "cell_type": "code",
   "execution_count": 16,
   "id": "81ce2492-55e1-4bb6-bf4a-e091d4b11d35",
   "metadata": {},
   "outputs": [
    {
     "data": {
      "text/plain": [
       "tensor(11)"
      ]
     },
     "execution_count": 16,
     "metadata": {},
     "output_type": "execute_result"
    }
   ],
   "source": [
    "output.logits[0,-1].argmax()"
   ]
  },
  {
   "cell_type": "code",
   "execution_count": 17,
   "id": "e1179171-f8ac-4471-b5e7-0d87b89d9b6c",
   "metadata": {},
   "outputs": [
    {
     "data": {
      "text/plain": [
       "','"
      ]
     },
     "execution_count": 17,
     "metadata": {},
     "output_type": "execute_result"
    }
   ],
   "source": [
    "tokenizer.decode(11)"
   ]
  },
  {
   "cell_type": "code",
   "execution_count": 20,
   "id": "f5d9bc00-0549-43be-b210-7028abf3c0ec",
   "metadata": {},
   "outputs": [],
   "source": [
    "out = output.logits[0,-1].argsort()[-10:][:,None]"
   ]
  },
  {
   "cell_type": "code",
   "execution_count": 21,
   "id": "105efea0-436d-4b08-92e1-826b0cd6c7fb",
   "metadata": {},
   "outputs": [
    {
     "data": {
      "text/plain": [
       "[' bench',\n",
       " ' summer',\n",
       " ' hill',\n",
       " ' morning',\n",
       " ' patio',\n",
       " ' afternoon',\n",
       " ' side',\n",
       " ' day',\n",
       " ' beach',\n",
       " ',']"
      ]
     },
     "execution_count": 21,
     "metadata": {},
     "output_type": "execute_result"
    }
   ],
   "source": [
    "tokenizer.batch_decode(out)"
   ]
  },
  {
   "cell_type": "code",
   "execution_count": 22,
   "id": "00b3d1a1-a726-4bbc-8d7d-e132e8c9f96d",
   "metadata": {},
   "outputs": [
    {
     "name": "stderr",
     "output_type": "stream",
     "text": [
      "Setting `pad_token_id` to `eos_token_id`:50256 for open-end generation.\n",
      "/Users/agnieszka.dul/Library/Caches/pypoetry/virtualenvs/ds-learning-Qd2jz2Gq-py3.11/lib/python3.11/site-packages/transformers/generation/utils.py:1168: UserWarning: Using the model-agnostic default `max_length` (=20) to control the generation length. We recommend setting `max_new_tokens` to control the maximum length of the generation.\n",
      "  warnings.warn(\n"
     ]
    },
    {
     "data": {
      "text/plain": [
       "tensor([[ 9246,   318,  5586,   319,   257, 27737,    11, 27737,  1110,    11,\n",
       "           290,   339,   338,   655,   546,   284,   467,   284,  3996,    13]])"
      ]
     },
     "execution_count": 22,
     "metadata": {},
     "output_type": "execute_result"
    }
   ],
   "source": [
    "out = model.generate(**token)"
   ]
  },
  {
   "cell_type": "code",
   "execution_count": 26,
   "id": "dd2fa1ca-0232-4761-b439-aff378e7a3fa",
   "metadata": {},
   "outputs": [
    {
     "data": {
      "text/plain": [
       "\"cat is sitting on a sunny, sunny day, and he's just about to go to bed.\""
      ]
     },
     "execution_count": 26,
     "metadata": {},
     "output_type": "execute_result"
    }
   ],
   "source": [
    "tokenizer.decode(out[0])"
   ]
  },
  {
   "cell_type": "code",
   "execution_count": null,
   "id": "91c3b5ff-39e8-4765-9108-3f532b15b6ef",
   "metadata": {},
   "outputs": [],
   "source": []
  }
 ],
 "metadata": {
  "kernelspec": {
   "display_name": "Python 3 (ipykernel)",
   "language": "python",
   "name": "python3"
  },
  "language_info": {
   "codemirror_mode": {
    "name": "ipython",
    "version": 3
   },
   "file_extension": ".py",
   "mimetype": "text/x-python",
   "name": "python",
   "nbconvert_exporter": "python",
   "pygments_lexer": "ipython3",
   "version": "3.11.9"
  }
 },
 "nbformat": 4,
 "nbformat_minor": 5
}
